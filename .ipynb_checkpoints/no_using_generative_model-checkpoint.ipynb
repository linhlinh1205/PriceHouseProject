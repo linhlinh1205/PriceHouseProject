{
 "cells": [
  {
   "cell_type": "code",
   "execution_count": 1,
   "id": "dc83a6b9-ed37-4faa-a826-51ca66ee1ef3",
   "metadata": {
    "tags": []
   },
   "outputs": [
    {
     "name": "stdout",
     "output_type": "stream",
     "text": [
      "WARNING:tensorflow:From C:\\Users\\TanLoc\\AppData\\Local\\Programs\\Python\\Python310\\lib\\site-packages\\keras\\src\\losses.py:2976: The name tf.losses.sparse_softmax_cross_entropy is deprecated. Please use tf.compat.v1.losses.sparse_softmax_cross_entropy instead.\n",
      "\n"
     ]
    }
   ],
   "source": [
    "import pandas as pd\n",
    "import os\n",
    "import matplotlib.pyplot as plt\n",
    "import seaborn as sns\n",
    "import numpy as np\n",
    "import plotly.express as px\n",
    "import torch\n",
    "from sklearn.model_selection import train_test_split\n",
    "from sklearn.ensemble import RandomForestRegressor\n",
    "from sklearn.linear_model import LinearRegression\n",
    "from sklearn.svm import SVR\n",
    "from sklearn.tree import DecisionTreeRegressor\n",
    "from xgboost import XGBRegressor\n",
    "from sklearn.metrics import mean_squared_error,f1_score\n",
    "import numpy as np\n",
    "from tqdm import tqdm\n",
    "import tensorflow as tf\n",
    "from tensorflow.keras import layers\n",
    "from tensorflow import keras\n",
    "from sklearn.metrics import r2_score\n",
    "%matplotlib inline"
   ]
  },
  {
   "cell_type": "code",
   "execution_count": 2,
   "id": "c600f23f-ad2a-461e-bf7a-ae2aa9c29c59",
   "metadata": {
    "tags": []
   },
   "outputs": [
    {
     "data": {
      "text/html": [
       "<div>\n",
       "<style scoped>\n",
       "    .dataframe tbody tr th:only-of-type {\n",
       "        vertical-align: middle;\n",
       "    }\n",
       "\n",
       "    .dataframe tbody tr th {\n",
       "        vertical-align: top;\n",
       "    }\n",
       "\n",
       "    .dataframe thead th {\n",
       "        text-align: right;\n",
       "    }\n",
       "</style>\n",
       "<table border=\"1\" class=\"dataframe\">\n",
       "  <thead>\n",
       "    <tr style=\"text-align: right;\">\n",
       "      <th></th>\n",
       "      <th>Giá</th>\n",
       "      <th>Diện tích</th>\n",
       "      <th>Mặt tiền</th>\n",
       "      <th>Số tầng</th>\n",
       "      <th>Số phòng</th>\n",
       "      <th>Số toilet</th>\n",
       "      <th>Không</th>\n",
       "      <th>Đầy đủ</th>\n",
       "      <th>Cơ bản</th>\n",
       "    </tr>\n",
       "  </thead>\n",
       "  <tbody>\n",
       "    <tr>\n",
       "      <th>0</th>\n",
       "      <td>4.4</td>\n",
       "      <td>36.0</td>\n",
       "      <td>6</td>\n",
       "      <td>3</td>\n",
       "      <td>3</td>\n",
       "      <td>3</td>\n",
       "      <td>1</td>\n",
       "      <td>0</td>\n",
       "      <td>0</td>\n",
       "    </tr>\n",
       "    <tr>\n",
       "      <th>1</th>\n",
       "      <td>5.7</td>\n",
       "      <td>58.7</td>\n",
       "      <td>4</td>\n",
       "      <td>2</td>\n",
       "      <td>2</td>\n",
       "      <td>2</td>\n",
       "      <td>1</td>\n",
       "      <td>0</td>\n",
       "      <td>0</td>\n",
       "    </tr>\n",
       "    <tr>\n",
       "      <th>2</th>\n",
       "      <td>7.0</td>\n",
       "      <td>80.0</td>\n",
       "      <td>4</td>\n",
       "      <td>4</td>\n",
       "      <td>4</td>\n",
       "      <td>5</td>\n",
       "      <td>1</td>\n",
       "      <td>0</td>\n",
       "      <td>0</td>\n",
       "    </tr>\n",
       "    <tr>\n",
       "      <th>3</th>\n",
       "      <td>4.8</td>\n",
       "      <td>68.0</td>\n",
       "      <td>4</td>\n",
       "      <td>2</td>\n",
       "      <td>4</td>\n",
       "      <td>3</td>\n",
       "      <td>1</td>\n",
       "      <td>0</td>\n",
       "      <td>0</td>\n",
       "    </tr>\n",
       "    <tr>\n",
       "      <th>4</th>\n",
       "      <td>800.0</td>\n",
       "      <td>28.0</td>\n",
       "      <td>35</td>\n",
       "      <td>2</td>\n",
       "      <td>1</td>\n",
       "      <td>1</td>\n",
       "      <td>1</td>\n",
       "      <td>0</td>\n",
       "      <td>0</td>\n",
       "    </tr>\n",
       "    <tr>\n",
       "      <th>...</th>\n",
       "      <td>...</td>\n",
       "      <td>...</td>\n",
       "      <td>...</td>\n",
       "      <td>...</td>\n",
       "      <td>...</td>\n",
       "      <td>...</td>\n",
       "      <td>...</td>\n",
       "      <td>...</td>\n",
       "      <td>...</td>\n",
       "    </tr>\n",
       "    <tr>\n",
       "      <th>35927</th>\n",
       "      <td>3.0</td>\n",
       "      <td>100.0</td>\n",
       "      <td>5</td>\n",
       "      <td>4</td>\n",
       "      <td>5</td>\n",
       "      <td>5</td>\n",
       "      <td>1</td>\n",
       "      <td>0</td>\n",
       "      <td>0</td>\n",
       "    </tr>\n",
       "    <tr>\n",
       "      <th>35928</th>\n",
       "      <td>10.0</td>\n",
       "      <td>200.0</td>\n",
       "      <td>10</td>\n",
       "      <td>4</td>\n",
       "      <td>3</td>\n",
       "      <td>3</td>\n",
       "      <td>1</td>\n",
       "      <td>0</td>\n",
       "      <td>0</td>\n",
       "    </tr>\n",
       "    <tr>\n",
       "      <th>35929</th>\n",
       "      <td>3.0</td>\n",
       "      <td>100.0</td>\n",
       "      <td>1</td>\n",
       "      <td>4</td>\n",
       "      <td>3</td>\n",
       "      <td>3</td>\n",
       "      <td>1</td>\n",
       "      <td>0</td>\n",
       "      <td>0</td>\n",
       "    </tr>\n",
       "    <tr>\n",
       "      <th>35930</th>\n",
       "      <td>3.5</td>\n",
       "      <td>342.0</td>\n",
       "      <td>1</td>\n",
       "      <td>1</td>\n",
       "      <td>1</td>\n",
       "      <td>1</td>\n",
       "      <td>1</td>\n",
       "      <td>0</td>\n",
       "      <td>0</td>\n",
       "    </tr>\n",
       "    <tr>\n",
       "      <th>35931</th>\n",
       "      <td>8.8</td>\n",
       "      <td>77.0</td>\n",
       "      <td>1</td>\n",
       "      <td>1</td>\n",
       "      <td>1</td>\n",
       "      <td>1</td>\n",
       "      <td>1</td>\n",
       "      <td>0</td>\n",
       "      <td>0</td>\n",
       "    </tr>\n",
       "  </tbody>\n",
       "</table>\n",
       "<p>35932 rows × 9 columns</p>\n",
       "</div>"
      ],
      "text/plain": [
       "         Giá  Diện tích  Mặt tiền  Số tầng  Số phòng  Số toilet  Không  \\\n",
       "0        4.4       36.0         6        3         3          3      1   \n",
       "1        5.7       58.7         4        2         2          2      1   \n",
       "2        7.0       80.0         4        4         4          5      1   \n",
       "3        4.8       68.0         4        2         4          3      1   \n",
       "4      800.0       28.0        35        2         1          1      1   \n",
       "...      ...        ...       ...      ...       ...        ...    ...   \n",
       "35927    3.0      100.0         5        4         5          5      1   \n",
       "35928   10.0      200.0        10        4         3          3      1   \n",
       "35929    3.0      100.0         1        4         3          3      1   \n",
       "35930    3.5      342.0         1        1         1          1      1   \n",
       "35931    8.8       77.0         1        1         1          1      1   \n",
       "\n",
       "       Đầy đủ  Cơ bản  \n",
       "0           0       0  \n",
       "1           0       0  \n",
       "2           0       0  \n",
       "3           0       0  \n",
       "4           0       0  \n",
       "...       ...     ...  \n",
       "35927       0       0  \n",
       "35928       0       0  \n",
       "35929       0       0  \n",
       "35930       0       0  \n",
       "35931       0       0  \n",
       "\n",
       "[35932 rows x 9 columns]"
      ]
     },
     "execution_count": 2,
     "metadata": {},
     "output_type": "execute_result"
    }
   ],
   "source": [
    "import pandas as pd\n",
    "import matplotlib.pyplot as plt\n",
    "\n",
    "# Đọc dữ liệu vào DataFrame\n",
    "df = pd.read_csv('Data/data_price_house_cleaning_new.csv')  # Thay 'ten_file.csv' bằng tên thực tế của file dữ liệu\n",
    "df = df.drop(columns='Unnamed: 0')\n",
    "df['Giá'] = df['Giá'].round(1)\n",
    "# Đếm số lượng mẫu trong mỗi lớp\n",
    "df"
   ]
  },
  {
   "cell_type": "code",
   "execution_count": 3,
   "id": "8e8fa152-415b-4bcb-abcc-56ef85b251e8",
   "metadata": {
    "tags": []
   },
   "outputs": [
    {
     "data": {
      "image/png": "[encoded data removed]",
      "text/plain": [
       "<Figure size 640x480 with 1 Axes>"
      ]
     },
     "metadata": {},
     "output_type": "display_data"
    }
   ],
   "source": [
    "class_counts = df['Giá'].value_counts()\n",
    "\n",
    "# Vẽ biểu đồ cột\n",
    "class_counts.plot(kind='bar', rot=0)\n",
    "plt.xlabel('Lớp')\n",
    "plt.ylabel('Số lượng')\n",
    "plt.title('Phân phối mẫu trong các lớp')\n",
    "plt.show()"
   ]
  },
  {
   "cell_type": "code",
   "execution_count": 4,
   "id": "e54e2277-db90-4e2f-a726-cee30f24e292",
   "metadata": {
    "tags": []
   },
   "outputs": [
    {
     "data": {
      "text/html": [
       "<div>\n",
       "<style scoped>\n",
       "    .dataframe tbody tr th:only-of-type {\n",
       "        vertical-align: middle;\n",
       "    }\n",
       "\n",
       "    .dataframe tbody tr th {\n",
       "        vertical-align: top;\n",
       "    }\n",
       "\n",
       "    .dataframe thead th {\n",
       "        text-align: right;\n",
       "    }\n",
       "</style>\n",
       "<table border=\"1\" class=\"dataframe\">\n",
       "  <thead>\n",
       "    <tr style=\"text-align: right;\">\n",
       "      <th></th>\n",
       "      <th>Giá</th>\n",
       "      <th>Diện tích</th>\n",
       "      <th>Mặt tiền</th>\n",
       "      <th>Số tầng</th>\n",
       "      <th>Số phòng</th>\n",
       "      <th>Số toilet</th>\n",
       "      <th>Không</th>\n",
       "      <th>Đầy đủ</th>\n",
       "      <th>Cơ bản</th>\n",
       "    </tr>\n",
       "  </thead>\n",
       "  <tbody>\n",
       "    <tr>\n",
       "      <th>10054</th>\n",
       "      <td>6.0</td>\n",
       "      <td>48.0</td>\n",
       "      <td>7</td>\n",
       "      <td>3</td>\n",
       "      <td>4</td>\n",
       "      <td>3</td>\n",
       "      <td>0</td>\n",
       "      <td>0</td>\n",
       "      <td>1</td>\n",
       "    </tr>\n",
       "    <tr>\n",
       "      <th>8923</th>\n",
       "      <td>2.8</td>\n",
       "      <td>25.0</td>\n",
       "      <td>4</td>\n",
       "      <td>1</td>\n",
       "      <td>2</td>\n",
       "      <td>1</td>\n",
       "      <td>1</td>\n",
       "      <td>0</td>\n",
       "      <td>0</td>\n",
       "    </tr>\n",
       "    <tr>\n",
       "      <th>7278</th>\n",
       "      <td>14.9</td>\n",
       "      <td>75.0</td>\n",
       "      <td>1</td>\n",
       "      <td>4</td>\n",
       "      <td>4</td>\n",
       "      <td>4</td>\n",
       "      <td>1</td>\n",
       "      <td>0</td>\n",
       "      <td>0</td>\n",
       "    </tr>\n",
       "    <tr>\n",
       "      <th>23574</th>\n",
       "      <td>15.5</td>\n",
       "      <td>64.0</td>\n",
       "      <td>1</td>\n",
       "      <td>7</td>\n",
       "      <td>3</td>\n",
       "      <td>5</td>\n",
       "      <td>1</td>\n",
       "      <td>0</td>\n",
       "      <td>0</td>\n",
       "    </tr>\n",
       "    <tr>\n",
       "      <th>8431</th>\n",
       "      <td>10.8</td>\n",
       "      <td>68.0</td>\n",
       "      <td>1</td>\n",
       "      <td>1</td>\n",
       "      <td>1</td>\n",
       "      <td>1</td>\n",
       "      <td>1</td>\n",
       "      <td>0</td>\n",
       "      <td>0</td>\n",
       "    </tr>\n",
       "  </tbody>\n",
       "</table>\n",
       "</div>"
      ],
      "text/plain": [
       "        Giá  Diện tích  Mặt tiền  Số tầng  Số phòng  Số toilet  Không  Đầy đủ  \\\n",
       "10054   6.0       48.0         7        3         4          3      0       0   \n",
       "8923    2.8       25.0         4        1         2          1      1       0   \n",
       "7278   14.9       75.0         1        4         4          4      1       0   \n",
       "23574  15.5       64.0         1        7         3          5      1       0   \n",
       "8431   10.8       68.0         1        1         1          1      1       0   \n",
       "\n",
       "       Cơ bản  \n",
       "10054       1  \n",
       "8923        0  \n",
       "7278        0  \n",
       "23574       0  \n",
       "8431        0  "
      ]
     },
     "execution_count": 4,
     "metadata": {},
     "output_type": "execute_result"
    }
   ],
   "source": [
    "df.sample(5)"
   ]
  },
  {
   "cell_type": "code",
   "execution_count": 5,
   "id": "922ae5df-40b2-4985-aa07-6f4b3d003426",
   "metadata": {
    "tags": []
   },
   "outputs": [
    {
     "name": "stdout",
     "output_type": "stream",
     "text": [
      "   Diện tích  Mặt tiền  Số tầng  Số phòng  Số toilet  Không  Đầy đủ  Cơ bản\n",
      "0       36.0         6        3         3          3      1       0       0\n",
      "1       58.7         4        2         2          2      1       0       0\n",
      "2       80.0         4        4         4          5      1       0       0\n",
      "3       68.0         4        2         4          3      1       0       0\n",
      "4       28.0        35        2         1          1      1       0       0\n",
      "0      4.4\n",
      "1      5.7\n",
      "2      7.0\n",
      "3      4.8\n",
      "4    800.0\n",
      "Name: Giá, dtype: float64\n"
     ]
    }
   ],
   "source": [
    "X = df.iloc[:,1:]\n",
    "y = df['Giá']\n",
    "print(X.head(5))\n",
    "print(y.head(5))"
   ]
  },
  {
   "cell_type": "code",
   "execution_count": 6,
   "id": "ed45d713-17aa-4ad4-a452-98aac16b0b49",
   "metadata": {
    "tags": []
   },
   "outputs": [],
   "source": [
    "X_train, X_test, y_train, y_test = train_test_split(X, y, test_size=0.2, random_state=42)\n",
    "model_names = ['LinearRegression', 'RandomForestRegressor', 'XGBoost', 'SVR','Decision Tree']\n",
    "# Danh sách các mô hình\n",
    "models = {\n",
    "    'LinearRegression': LinearRegression(),\n",
    "    'RandomForestRegressor': RandomForestRegressor(n_estimators=500, random_state=42),\n",
    "    'XGBoost': XGBRegressor(n_estimators=500, random_state=42),\n",
    "    'SVR': SVR(kernel='linear'),\n",
    "    'Decision Tree': DecisionTreeRegressor()\n",
    "}\n",
    "best_model = None\n",
    "best_mse = float('inf')\n",
    "model_trained = []\n",
    "model_mse = []\n",
    "model_r2 = []\n",
    "\n",
    "def train_and_evaluate_model(model_name, X_train, X_test, y_train, y_test):\n",
    "    global best_model, best_mse, model_trained\n",
    "    # Chọn mô hình tương ứng với tên\n",
    "    model = models[model_name]\n",
    "\n",
    "    # Huấn luyện mô hình\n",
    "    model.fit(X_train, y_train,)\n",
    "\n",
    "    # Đánh giá mô hình trên tập kiểm tra\n",
    "    predictions = model.predict(X_test)\n",
    "    mse = mean_squared_error(y_test, predictions)\n",
    "    r2 = r2_score(y_test, predictions)\n",
    "    model_trained.append(model)\n",
    "    model_mse.append(mse)\n",
    "    model_r2.append(r2)\n",
    "    print(f\"{model_name} MSE: {mse}\")\n",
    "    print(f\"{model_name} R-squared: {r2}\")\n",
    "    joblib.dump(model, f'Model/1/{model_name}.pkl')\n",
    "        \n",
    "\n",
    "\n"
   ]
  },
  {
   "cell_type": "code",
   "execution_count": 7,
   "id": "ef27ce42-8496-4bee-9de6-d247146308ed",
   "metadata": {
    "tags": []
   },
   "outputs": [],
   "source": [
    "import joblib"
   ]
  },
  {
   "cell_type": "code",
   "execution_count": 8,
   "id": "2a791f89-d144-450b-bc48-2af07bf3a62d",
   "metadata": {
    "tags": []
   },
   "outputs": [
    {
     "name": "stderr",
     "output_type": "stream",
     "text": [
      "Training models:   0%|                                                                           | 0/5 [00:00<?, ?it/s]"
     ]
    },
    {
     "name": "stdout",
     "output_type": "stream",
     "text": [
      "LinearRegression MSE: 10954.613901829222\n",
      "LinearRegression R-squared: 0.015199535373312534\n",
      "RandomForestRegressor MSE: 9264.27423202856\n",
      "RandomForestRegressor R-squared: 0.16715808974268642\n"
     ]
    },
    {
     "name": "stderr",
     "output_type": "stream",
     "text": [
      "Training models:  60%|████████████████████████████████████████▏                          | 3/5 [00:19<00:11,  5.81s/it]"
     ]
    },
    {
     "name": "stdout",
     "output_type": "stream",
     "text": [
      "XGBoost MSE: 9076.78857078013\n",
      "XGBoost R-squared: 0.18401271994352464\n"
     ]
    },
    {
     "name": "stderr",
     "output_type": "stream",
     "text": [
      "Training models: 100%|██████████████████████████████████████████████████████████████████| 5/5 [41:52<00:00, 502.57s/it]"
     ]
    },
    {
     "name": "stdout",
     "output_type": "stream",
     "text": [
      "SVR MSE: 11458.112581771526\n",
      "SVR R-squared: -0.03006410772626822\n",
      "Decision Tree MSE: 11175.297585076583\n",
      "Decision Tree R-squared: -0.004639538440255775\n"
     ]
    },
    {
     "name": "stderr",
     "output_type": "stream",
     "text": [
      "\n"
     ]
    },
    {
     "ename": "NameError",
     "evalue": "name 'mse_model' is not defined",
     "output_type": "error",
     "traceback": [
      "\u001b[1;31m---------------------------------------------------------------------------\u001b[0m",
      "\u001b[1;31mNameError\u001b[0m                                 Traceback (most recent call last)",
      "Cell \u001b[1;32mIn [8], line 5\u001b[0m\n\u001b[0;32m      2\u001b[0m \u001b[38;5;28;01mfor\u001b[39;00m model_name \u001b[38;5;129;01min\u001b[39;00m tqdm(model_names, desc\u001b[38;5;241m=\u001b[39m\u001b[38;5;124m'\u001b[39m\u001b[38;5;124mTraining models\u001b[39m\u001b[38;5;124m'\u001b[39m):\n\u001b[0;32m      3\u001b[0m     train_and_evaluate_model(model_name, X_train, X_test, y_train, y_test)\n\u001b[1;32m----> 5\u001b[0m \u001b[38;5;28mprint\u001b[39m(\u001b[43mmse_model\u001b[49m)\n\u001b[0;32m      6\u001b[0m \u001b[38;5;28mprint\u001b[39m(model_trained)\n\u001b[0;32m      7\u001b[0m \u001b[38;5;28mprint\u001b[39m(r2_model)\n",
      "\u001b[1;31mNameError\u001b[0m: name 'mse_model' is not defined"
     ]
    }
   ],
   "source": [
    "# Gọi hàm cho từng mô hình\n",
    "for model_name in tqdm(model_names, desc='Training models'):\n",
    "    train_and_evaluate_model(model_name, X_train, X_test, y_train, y_test)\n",
    "    \n"
   ]
  },
  {
   "cell_type": "code",
   "execution_count": 11,
   "id": "3f6be9bb-17d6-49e6-a605-5cc51ac04d1c",
   "metadata": {
    "tags": []
   },
   "outputs": [
    {
     "name": "stdout",
     "output_type": "stream",
     "text": [
      "[LinearRegression(), RandomForestRegressor(n_estimators=500, random_state=42), XGBRegressor(base_score=None, booster=None, callbacks=None,\n",
      "             colsample_bylevel=None, colsample_bynode=None,\n",
      "             colsample_bytree=None, device=None, early_stopping_rounds=None,\n",
      "             enable_categorical=False, eval_metric=None, feature_types=None,\n",
      "             gamma=None, grow_policy=None, importance_type=None,\n",
      "             interaction_constraints=None, learning_rate=None, max_bin=None,\n",
      "             max_cat_threshold=None, max_cat_to_onehot=None,\n",
      "             max_delta_step=None, max_depth=None, max_leaves=None,\n",
      "             min_child_weight=None, missing=nan, monotone_constraints=None,\n",
      "             multi_strategy=None, n_estimators=500, n_jobs=None,\n",
      "             num_parallel_tree=None, random_state=42, ...), SVR(kernel='linear'), DecisionTreeRegressor()]\n",
      "[0.015199535373312534, 0.16715808974268642, 0.18401271994352464, -0.03006410772626822, -0.004639538440255775]\n"
     ]
    }
   ],
   "source": [
    "# print(mse_model)\n",
    "print(model_trained)\n",
    "print(model_r2)"
   ]
  },
  {
   "cell_type": "code",
   "execution_count": 55,
   "id": "a191b3f5-3255-4557-8ae1-fffe79f51a66",
   "metadata": {
    "tags": []
   },
   "outputs": [
    {
     "name": "stdout",
     "output_type": "stream",
     "text": [
      "Diện tích    36.0\n",
      "Mặt tiền      6.0\n",
      "Số tầng       3.0\n",
      "Số phòng      3.0\n",
      "Số toilet     3.0\n",
      "Không         1.0\n",
      "Đầy đủ        0.0\n",
      "Cơ bản        0.0\n",
      "Name: 0, dtype: float64\n"
     ]
    },
    {
     "data": {
      "text/plain": [
       "array([4.24832976])"
      ]
     },
     "execution_count": 55,
     "metadata": {},
     "output_type": "execute_result"
    }
   ],
   "source": [
    "model_loaded = joblib.load('Data/RandomForestRegressor.pkl')\n",
    "print(X.iloc[0])\n",
    "model_loaded.predict(X.iloc[[0]])"
   ]
  },
  {
   "cell_type": "code",
   "execution_count": 12,
   "id": "d58dba63-9a85-4582-988a-1e847ca2bfbd",
   "metadata": {
    "tags": []
   },
   "outputs": [],
   "source": [
    "def train_and_evaluate_nn(X_train, X_test, y_train, y_test):\n",
    "    global best_model, best_mse\n",
    "    model = keras.Sequential([\n",
    "        layers.Dense(128, activation='relu', input_shape=(X_train.shape[1],)),\n",
    "        layers.Dense(64, activation='relu'),\n",
    "        layers.Dense(32, activation='relu'),\n",
    "        layers.Dense(1, activation='linear')\n",
    "    ])\n",
    "    \n",
    "    # Biên soạn mô hình\n",
    "    model.compile(optimizer='adam', loss='mean_squared_error')\n",
    "    \n",
    "    # Huấn luyện mô hình\n",
    "    model.fit(X_train, y_train, epochs=50, batch_size=128, validation_split=0.2)\n",
    "    \n",
    "    # Đánh giá mô hình trên tập kiểm tra\n",
    "    predictions = model.predict(X_test)\n",
    "    mse = mean_squared_error(y_test, predictions)\n",
    "    r2 = r2_score(y_test, predictions)\n",
    "\n",
    "    print(f\"NeuralNetwork MSE: {mse}\")\n",
    "    print(f\"NeuralNetwork r2-Squared: {r2}\")\n",
    "    \n",
    "\n",
    "    return model,mse"
   ]
  },
  {
   "cell_type": "code",
   "execution_count": 13,
   "id": "ae7ae5cd-34ab-4c41-bb32-1892f7ebf010",
   "metadata": {
    "tags": []
   },
   "outputs": [
    {
     "name": "stdout",
     "output_type": "stream",
     "text": [
      "WARNING:tensorflow:From C:\\Users\\TanLoc\\AppData\\Local\\Programs\\Python\\Python310\\lib\\site-packages\\keras\\src\\backend.py:873: The name tf.get_default_graph is deprecated. Please use tf.compat.v1.get_default_graph instead.\n",
      "\n",
      "WARNING:tensorflow:From C:\\Users\\TanLoc\\AppData\\Local\\Programs\\Python\\Python310\\lib\\site-packages\\keras\\src\\optimizers\\__init__.py:309: The name tf.train.Optimizer is deprecated. Please use tf.compat.v1.train.Optimizer instead.\n",
      "\n",
      "Epoch 1/50\n",
      "WARNING:tensorflow:From C:\\Users\\TanLoc\\AppData\\Local\\Programs\\Python\\Python310\\lib\\site-packages\\keras\\src\\utils\\tf_utils.py:492: The name tf.ragged.RaggedTensorValue is deprecated. Please use tf.compat.v1.ragged.RaggedTensorValue instead.\n",
      "\n"
     ]
    },
    {
     "name": "stderr",
     "output_type": "stream",
     "text": [
      "C:\\Users\\TanLoc\\AppData\\Local\\Programs\\Python\\Python310\\lib\\site-packages\\keras\\src\\engine\\data_adapter.py:1808: FutureWarning: The behavior of `series[i:j]` with an integer-dtype index is deprecated. In a future version, this will be treated as *label-based* indexing, consistent with e.g. `series[i]` lookups. To retain the old behavior, use `series.iloc[i:j]`. To get the future behavior, use `series.loc[i:j]`.\n",
      "  return t[start:end]\n"
     ]
    },
    {
     "name": "stdout",
     "output_type": "stream",
     "text": [
      "180/180 [==============================] - 1s 2ms/step - loss: 9447.5332 - val_loss: 9862.0938\n",
      "Epoch 2/50\n",
      "180/180 [==============================] - 0s 1ms/step - loss: 9435.7627 - val_loss: 9607.0771\n",
      "Epoch 3/50\n",
      "180/180 [==============================] - 0s 1ms/step - loss: 9417.0029 - val_loss: 9587.6172\n",
      "Epoch 4/50\n",
      "180/180 [==============================] - 0s 1ms/step - loss: 9382.8604 - val_loss: 9568.5693\n",
      "Epoch 5/50\n",
      "180/180 [==============================] - 0s 1ms/step - loss: 9380.6377 - val_loss: 9579.7959\n",
      "Epoch 6/50\n",
      "180/180 [==============================] - 0s 1ms/step - loss: 9347.7588 - val_loss: 9547.8174\n",
      "Epoch 7/50\n",
      "180/180 [==============================] - 0s 1ms/step - loss: 9355.0674 - val_loss: 9547.5439\n",
      "Epoch 8/50\n",
      "180/180 [==============================] - 0s 2ms/step - loss: 9326.6240 - val_loss: 9543.1689\n",
      "Epoch 9/50\n",
      "180/180 [==============================] - 0s 1ms/step - loss: 9301.2129 - val_loss: 9461.2012\n",
      "Epoch 10/50\n",
      "180/180 [==============================] - 0s 1ms/step - loss: 9271.6006 - val_loss: 9466.7500\n",
      "Epoch 11/50\n",
      "180/180 [==============================] - 0s 1ms/step - loss: 9276.4023 - val_loss: 9464.0928\n",
      "Epoch 12/50\n",
      "180/180 [==============================] - 0s 1ms/step - loss: 9259.6357 - val_loss: 9466.4023\n",
      "Epoch 13/50\n",
      "180/180 [==============================] - 0s 1ms/step - loss: 9214.0586 - val_loss: 9417.0273\n",
      "Epoch 14/50\n",
      "180/180 [==============================] - 0s 2ms/step - loss: 9248.5557 - val_loss: 9472.3906\n",
      "Epoch 15/50\n",
      "180/180 [==============================] - 0s 1ms/step - loss: 9204.9375 - val_loss: 9426.9580\n",
      "Epoch 16/50\n",
      "180/180 [==============================] - 0s 1ms/step - loss: 9194.3047 - val_loss: 9428.9316\n",
      "Epoch 17/50\n",
      "180/180 [==============================] - 0s 1ms/step - loss: 9161.1748 - val_loss: 9371.9307\n",
      "Epoch 18/50\n",
      "180/180 [==============================] - 0s 1ms/step - loss: 9172.9385 - val_loss: 9397.5967\n",
      "Epoch 19/50\n",
      "180/180 [==============================] - 0s 2ms/step - loss: 9162.4814 - val_loss: 9387.4219\n",
      "Epoch 20/50\n",
      "180/180 [==============================] - 0s 1ms/step - loss: 9169.3682 - val_loss: 9333.6670\n",
      "Epoch 21/50\n",
      "180/180 [==============================] - 0s 1ms/step - loss: 9128.3984 - val_loss: 9300.2354\n",
      "Epoch 22/50\n",
      "180/180 [==============================] - 0s 1ms/step - loss: 9091.3330 - val_loss: 9353.4229\n",
      "Epoch 23/50\n",
      "180/180 [==============================] - 0s 1ms/step - loss: 9114.8184 - val_loss: 9347.5654\n",
      "Epoch 24/50\n",
      "180/180 [==============================] - 0s 1ms/step - loss: 9094.4619 - val_loss: 9271.6846\n",
      "Epoch 25/50\n",
      "180/180 [==============================] - 0s 1ms/step - loss: 9057.6699 - val_loss: 9207.6523\n",
      "Epoch 26/50\n",
      "180/180 [==============================] - 0s 1ms/step - loss: 9042.2832 - val_loss: 9212.6494\n",
      "Epoch 27/50\n",
      "180/180 [==============================] - 0s 1ms/step - loss: 9043.8682 - val_loss: 9258.3223\n",
      "Epoch 28/50\n",
      "180/180 [==============================] - 0s 1ms/step - loss: 9001.1074 - val_loss: 9206.7705\n",
      "Epoch 29/50\n",
      "180/180 [==============================] - 0s 1ms/step - loss: 9045.7266 - val_loss: 9163.8906\n",
      "Epoch 30/50\n",
      "180/180 [==============================] - 0s 1ms/step - loss: 8986.8311 - val_loss: 9265.2451\n",
      "Epoch 31/50\n",
      "180/180 [==============================] - 0s 1ms/step - loss: 9002.3408 - val_loss: 9284.7568\n",
      "Epoch 32/50\n",
      "180/180 [==============================] - 0s 1ms/step - loss: 8947.5273 - val_loss: 9087.6094\n",
      "Epoch 33/50\n",
      "180/180 [==============================] - 0s 1ms/step - loss: 8956.3789 - val_loss: 9137.8486\n",
      "Epoch 34/50\n",
      "180/180 [==============================] - 0s 1ms/step - loss: 8940.8623 - val_loss: 9150.3848\n",
      "Epoch 35/50\n",
      "180/180 [==============================] - 0s 1ms/step - loss: 8947.5801 - val_loss: 9056.4980\n",
      "Epoch 36/50\n",
      "180/180 [==============================] - 0s 1ms/step - loss: 8934.7656 - val_loss: 9043.3457\n",
      "Epoch 37/50\n",
      "180/180 [==============================] - 0s 1ms/step - loss: 8928.8379 - val_loss: 9034.4697\n",
      "Epoch 38/50\n",
      "180/180 [==============================] - 0s 1ms/step - loss: 8918.5010 - val_loss: 9172.6211\n",
      "Epoch 39/50\n",
      "180/180 [==============================] - 0s 1ms/step - loss: 8905.7910 - val_loss: 8990.1455\n",
      "Epoch 40/50\n",
      "180/180 [==============================] - 0s 1ms/step - loss: 8895.4580 - val_loss: 9147.0596\n",
      "Epoch 41/50\n",
      "180/180 [==============================] - 0s 1ms/step - loss: 8909.7734 - val_loss: 9085.1484\n",
      "Epoch 42/50\n",
      "180/180 [==============================] - 0s 1ms/step - loss: 8896.2773 - val_loss: 9106.6992\n",
      "Epoch 43/50\n",
      "180/180 [==============================] - 0s 1ms/step - loss: 8857.9756 - val_loss: 8956.9277\n",
      "Epoch 44/50\n",
      "180/180 [==============================] - 0s 1ms/step - loss: 8898.3730 - val_loss: 8965.6934\n",
      "Epoch 45/50\n",
      "180/180 [==============================] - 0s 1ms/step - loss: 8853.8154 - val_loss: 8941.7461\n",
      "Epoch 46/50\n",
      "180/180 [==============================] - 0s 1ms/step - loss: 8858.9199 - val_loss: 8977.5527\n",
      "Epoch 47/50\n",
      "180/180 [==============================] - 0s 1ms/step - loss: 8854.5762 - val_loss: 9079.9619\n",
      "Epoch 48/50\n",
      "180/180 [==============================] - 0s 1ms/step - loss: 8875.8955 - val_loss: 9011.5732\n",
      "Epoch 49/50\n",
      "180/180 [==============================] - 0s 1ms/step - loss: 8848.8818 - val_loss: 8985.5156\n",
      "Epoch 50/50\n",
      "180/180 [==============================] - 0s 1ms/step - loss: 8870.7891 - val_loss: 8935.7188\n",
      "225/225 [==============================] - 0s 661us/step\n",
      "NeuralNetwork MSE: 10197.86376895998\n",
      "NeuralNetwork r2-Squared: 0.083230037327516\n"
     ]
    }
   ],
   "source": [
    "(nn_model,nn_mse) = train_and_evaluate_nn(X_train, X_test, y_train, y_test)"
   ]
  },
  {
   "cell_type": "code",
   "execution_count": 48,
   "id": "0797e81a-7830-45fa-8023-19b77df83fce",
   "metadata": {
    "tags": []
   },
   "outputs": [
    {
     "name": "stdout",
     "output_type": "stream",
     "text": [
      "10222.917933893665\n",
      "9232.529542888718\n"
     ]
    }
   ],
   "source": [
    "print(nn_mse)\n",
    "print(best_mse)"
   ]
  },
  {
   "cell_type": "code",
   "execution_count": 14,
   "id": "34077dec-d226-4800-902b-2540db0a4e95",
   "metadata": {
    "tags": []
   },
   "outputs": [
    {
     "data": {
      "text/plain": [
       "['Model/1/NN_model.pkl']"
      ]
     },
     "execution_count": 14,
     "metadata": {},
     "output_type": "execute_result"
    }
   ],
   "source": [
    "joblib.dump(nn_model, f'Model/1/NN_model.pkl')"
   ]
  },
  {
   "cell_type": "code",
   "execution_count": null,
   "id": "aea4435c-7379-4bee-96c6-bee07960efcf",
   "metadata": {},
   "outputs": [],
   "source": []
  }
 ],
 "metadata": {
  "kernelspec": {
   "display_name": "Python 3 (ipykernel)",
   "language": "python",
   "name": "python3"
  },
  "language_info": {
   "codemirror_mode": {
    "name": "ipython",
    "version": 3
   },
   "file_extension": ".py",
   "mimetype": "text/x-python",
   "name": "python",
   "nbconvert_exporter": "python",
   "pygments_lexer": "ipython3",
   "version": "3.10.7"
  }
 },
 "nbformat": 4,
 "nbformat_minor": 5
}
